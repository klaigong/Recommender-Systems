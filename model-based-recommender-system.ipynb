{
 "cells": [
  {
   "cell_type": "markdown",
   "id": "a93b29d1",
   "metadata": {},
   "source": [
    "<a id=\"cont\"></a>\n",
    "\n",
    "## Table of Contents\n",
    "\n",
    "<a href=#one>1. Introduction</a>\n",
    "\n",
    "<a href=#two>2. EDA</a>\n",
    "\n",
    "<a href=#three>3. Modelling Phase</a>\n",
    "\n",
    "<a href=#four>4. Generating Predictions</a>\n",
    "\n",
    "<a href=#five>5. Evaluating the Model</a>"
   ]
  },
  {
   "cell_type": "markdown",
   "id": "eb32eb53",
   "metadata": {
    "id": "diagnostic-privacy",
    "papermill": {
     "duration": 0.006179,
     "end_time": "2024-06-18T13:14:20.706427",
     "exception": false,
     "start_time": "2024-06-18T13:14:20.700248",
     "status": "completed"
    },
    "tags": []
   },
   "source": [
    " <a id=\"one\"></a>\n",
    " # 1. Introduction\n",
    "\n",
    "This notebook implements a model based aproach to create a recommender system.\n",
    "It employs several models, but the required ones can be selected as needed because of the considerable runtime, especially during training."
   ]
  },
  {
   "cell_type": "markdown",
   "id": "dfef8ae1",
   "metadata": {
    "id": "alien-ability",
    "papermill": {
     "duration": 0.006492,
     "end_time": "2024-06-18T13:14:21.583997",
     "exception": false,
     "start_time": "2024-06-18T13:14:21.577505",
     "status": "completed"
    },
    "tags": []
   },
   "source": [
    "## Installing packages\n",
    "This notebook proceeds to install the required packages for building the recommender system.\n",
    "\n",
    "In the case where the required package(s) isn't installed, the user shall have to pip install it."
   ]
  },
  {
   "cell_type": "code",
   "execution_count": 2,
   "id": "f4404ece",
   "metadata": {
    "execution": {
     "iopub.execute_input": "2024-06-18T13:14:21.599312Z",
     "iopub.status.busy": "2024-06-18T13:14:21.598418Z",
     "iopub.status.idle": "2024-06-18T13:14:23.272911Z",
     "shell.execute_reply": "2024-06-18T13:14:23.271997Z"
    },
    "id": "third-pregnancy",
    "papermill": {
     "duration": 1.68514,
     "end_time": "2024-06-18T13:14:23.275663",
     "exception": false,
     "start_time": "2024-06-18T13:14:21.590523",
     "status": "completed"
    },
    "tags": []
   },
   "outputs": [],
   "source": [
    "# Packages for data processing\n",
    "import numpy as np\n",
    "import pandas as pd\n",
    "import datetime\n",
    "from sklearn import preprocessing\n",
    "from sklearn.datasets import make_blobs\n",
    "from sklearn.preprocessing import StandardScaler\n",
    "from sklearn.feature_extraction.text import TfidfVectorizer\n",
    "from sklearn.metrics.pairwise import cosine_similarity\n",
    "import re\n",
    "from scipy.sparse import csr_matrix\n",
    "import scipy as sp\n",
    "\n",
    "\n",
    "# Packages for visualization\n",
    "import matplotlib.pyplot as plt\n",
    "import seaborn as sns\n",
    "%matplotlib inline\n",
    "\n",
    "# Packages for modeling\n",
    "from surprise import Reader\n",
    "from surprise import Dataset\n",
    "from surprise import KNNWithMeans\n",
    "from surprise import KNNBasic\n",
    "from surprise.model_selection import cross_validate\n",
    "from surprise.model_selection import GridSearchCV\n",
    "from surprise import SVD\n",
    "from surprise import SVDpp\n",
    "from surprise import NMF\n",
    "from surprise import SlopeOne\n",
    "from surprise import CoClustering\n",
    "from surprise.pipeline import Pipeline\n",
    "import heapq\n",
    "\n",
    "# Packages for model evaluation\n",
    "from sklearn.metrics import mean_squared_error\n",
    "from sklearn.metrics import mean_absolute_error\n",
    "from time import time\n",
    "\n",
    "# Package to suppress warnings\n",
    "import warnings\n",
    "warnings.filterwarnings(\"ignore\")\n",
    "\n",
    "# Package for saving models\n",
    "import pickle"
   ]
  },
  {
   "cell_type": "markdown",
   "id": "c8e2056e",
   "metadata": {
    "id": "reasonable-space",
    "papermill": {
     "duration": 0.006232,
     "end_time": "2024-06-18T13:14:23.288448",
     "exception": false,
     "start_time": "2024-06-18T13:14:23.282216",
     "status": "completed"
    },
    "tags": []
   },
   "source": [
    "## Reading in data\n",
    "The notebook was first run on kaggle, hence that was the default directory for the data.\n",
    "\n",
    "The user shall have to edit the following code block according to where their data is stored."
   ]
  },
  {
   "cell_type": "code",
   "execution_count": null,
   "id": "78c3ff73",
   "metadata": {
    "execution": {
     "iopub.execute_input": "2024-06-18T13:14:23.303043Z",
     "iopub.status.busy": "2024-06-18T13:14:23.302516Z",
     "iopub.status.idle": "2024-06-18T13:14:45.950746Z",
     "shell.execute_reply": "2024-06-18T13:14:45.949467Z"
    },
    "id": "charming-favorite",
    "papermill": {
     "duration": 22.658891,
     "end_time": "2024-06-18T13:14:45.953748",
     "exception": false,
     "start_time": "2024-06-18T13:14:23.294857",
     "status": "completed"
    },
    "tags": []
   },
   "outputs": [],
   "source": [
    "# Example of importing data\n",
    "train_df = pd.read_csv('/train.csv')\n",
    "movies_df = pd.read_csv('/movies.csv')\n",
    "imdb_df = pd.read_csv('/imdb_data.csv')\n",
    "test_df = pd.read_csv('test.csv')\n",
    "links_df = pd.read_csv('/links.csv')\n",
    "tags = pd.read_csv('/tags.csv')\n",
    "genome_scores = pd.read_csv('/genome_scores.csv')\n",
    "genome_tags = pd.read_csv('/kagglegenome_tags.csv')"
   ]
  },
  {
   "cell_type": "markdown",
   "id": "9f896590",
   "metadata": {},
   "source": [
    "# Validating the data was loaded properly"
   ]
  },
  {
   "cell_type": "code",
   "execution_count": 4,
   "id": "38c26d8c",
   "metadata": {
    "execution": {
     "iopub.execute_input": "2024-06-18T13:14:45.970217Z",
     "iopub.status.busy": "2024-06-18T13:14:45.969788Z",
     "iopub.status.idle": "2024-06-18T13:14:45.992426Z",
     "shell.execute_reply": "2024-06-18T13:14:45.991188Z"
    },
    "id": "alien-desperate",
    "papermill": {
     "duration": 0.033346,
     "end_time": "2024-06-18T13:14:45.994845",
     "exception": false,
     "start_time": "2024-06-18T13:14:45.961499",
     "status": "completed"
    },
    "tags": []
   },
   "outputs": [
    {
     "data": {
      "text/html": [
       "<div>\n",
       "<style scoped>\n",
       "    .dataframe tbody tr th:only-of-type {\n",
       "        vertical-align: middle;\n",
       "    }\n",
       "\n",
       "    .dataframe tbody tr th {\n",
       "        vertical-align: top;\n",
       "    }\n",
       "\n",
       "    .dataframe thead th {\n",
       "        text-align: right;\n",
       "    }\n",
       "</style>\n",
       "<table border=\"1\" class=\"dataframe\">\n",
       "  <thead>\n",
       "    <tr style=\"text-align: right;\">\n",
       "      <th></th>\n",
       "      <th>movieId</th>\n",
       "      <th>title</th>\n",
       "      <th>genres</th>\n",
       "    </tr>\n",
       "  </thead>\n",
       "  <tbody>\n",
       "    <tr>\n",
       "      <th>0</th>\n",
       "      <td>1</td>\n",
       "      <td>Toy Story (1995)</td>\n",
       "      <td>Adventure|Animation|Children|Comedy|Fantasy</td>\n",
       "    </tr>\n",
       "    <tr>\n",
       "      <th>1</th>\n",
       "      <td>2</td>\n",
       "      <td>Jumanji (1995)</td>\n",
       "      <td>Adventure|Children|Fantasy</td>\n",
       "    </tr>\n",
       "    <tr>\n",
       "      <th>2</th>\n",
       "      <td>3</td>\n",
       "      <td>Grumpier Old Men (1995)</td>\n",
       "      <td>Comedy|Romance</td>\n",
       "    </tr>\n",
       "    <tr>\n",
       "      <th>3</th>\n",
       "      <td>4</td>\n",
       "      <td>Waiting to Exhale (1995)</td>\n",
       "      <td>Comedy|Drama|Romance</td>\n",
       "    </tr>\n",
       "    <tr>\n",
       "      <th>4</th>\n",
       "      <td>5</td>\n",
       "      <td>Father of the Bride Part II (1995)</td>\n",
       "      <td>Comedy</td>\n",
       "    </tr>\n",
       "  </tbody>\n",
       "</table>\n",
       "</div>"
      ],
      "text/plain": [
       "   movieId                               title  \\\n",
       "0        1                    Toy Story (1995)   \n",
       "1        2                      Jumanji (1995)   \n",
       "2        3             Grumpier Old Men (1995)   \n",
       "3        4            Waiting to Exhale (1995)   \n",
       "4        5  Father of the Bride Part II (1995)   \n",
       "\n",
       "                                        genres  \n",
       "0  Adventure|Animation|Children|Comedy|Fantasy  \n",
       "1                   Adventure|Children|Fantasy  \n",
       "2                               Comedy|Romance  \n",
       "3                         Comedy|Drama|Romance  \n",
       "4                                       Comedy  "
      ]
     },
     "execution_count": 4,
     "metadata": {},
     "output_type": "execute_result"
    }
   ],
   "source": [
    "movies_df.head()"
   ]
  },
  {
   "cell_type": "code",
   "execution_count": 5,
   "id": "80530acc",
   "metadata": {
    "execution": {
     "iopub.execute_input": "2024-06-18T13:14:46.011079Z",
     "iopub.status.busy": "2024-06-18T13:14:46.010618Z",
     "iopub.status.idle": "2024-06-18T13:14:46.018764Z",
     "shell.execute_reply": "2024-06-18T13:14:46.017453Z"
    },
    "id": "incorporated-respondent",
    "papermill": {
     "duration": 0.019246,
     "end_time": "2024-06-18T13:14:46.021401",
     "exception": false,
     "start_time": "2024-06-18T13:14:46.002155",
     "status": "completed"
    },
    "tags": []
   },
   "outputs": [
    {
     "data": {
      "text/plain": [
       "(62423, 3)"
      ]
     },
     "execution_count": 5,
     "metadata": {},
     "output_type": "execute_result"
    }
   ],
   "source": [
    "movies_df.shape"
   ]
  },
  {
   "cell_type": "markdown",
   "id": "9dc52e61",
   "metadata": {
    "id": "parliamentary-saturn",
    "papermill": {
     "duration": 0.007002,
     "end_time": "2024-06-18T13:14:46.035562",
     "exception": false,
     "start_time": "2024-06-18T13:14:46.028560",
     "status": "completed"
    },
    "tags": []
   },
   "source": [
    "<a id=\"two\"></a>\n",
    "## 2. EDA\n",
    "<a class=\"anchor\" id=\"1.1\"></a>\n",
    "<a href=#cont>Back to Table of Contents</a>\n",
    "\n",
    "### Outliers\n",
    "- Outliers are data points that differ significantly from other observations. They can skew and mislead the training process of a machine learning model.\n",
    "- This notebook therefore identifies them using statistical methods such as Z-scores or IQR (Interquartile Range) then decide whether to remove or transform the outliers depending on their impact on the dataset.\n",
    "\n",
    "### Understanding Relationships Between Various Attributes and Structure of the Data\n",
    "- This notebook uses correlation matrices to understand the relationships between numerical attributes.\n",
    "- This notebook employs scatter plots, pair plots, and heatmaps to visualize and explore relationships.\n",
    "- This notebook explores the structure of the data, including the distribution of values and the presence of any missing values.\n",
    "\n",
    "### Recognizing Important Variables\n",
    "- The user may use techniques like Random Forests, Gradient Boosting, or SHAP values to determine feature importance.\n",
    "- The user may incorporate domain expertise to identify which variables are likely to be important.\n",
    "- The user may conduct statistical tests to identify variables that have significant effects on the target variable.\n",
    "\n",
    "By understanding the data through these steps, we ensure a robust foundation for building and evaluating machine learning models.\n",
    "The user may do more EDA than has been done on this notebook as appropriate."
   ]
  },
  {
   "cell_type": "markdown",
   "id": "bb79797d",
   "metadata": {
    "id": "66d42217",
    "papermill": {
     "duration": 0.006919,
     "end_time": "2024-06-18T13:14:46.049502",
     "exception": false,
     "start_time": "2024-06-18T13:14:46.042583",
     "status": "completed"
    },
    "tags": []
   },
   "source": [
    "**Checking whether or not there are any missing values in the dataset**"
   ]
  },
  {
   "cell_type": "code",
   "execution_count": null,
   "id": "3de901e7",
   "metadata": {
    "execution": {
     "iopub.execute_input": "2024-06-18T13:14:46.066278Z",
     "iopub.status.busy": "2024-06-18T13:14:46.065829Z",
     "iopub.status.idle": "2024-06-18T13:14:46.198188Z",
     "shell.execute_reply": "2024-06-18T13:14:46.196815Z"
    },
    "id": "2e31dda3",
    "papermill": {
     "duration": 0.143578,
     "end_time": "2024-06-18T13:14:46.201096",
     "exception": false,
     "start_time": "2024-06-18T13:14:46.057518",
     "status": "completed"
    },
    "tags": []
   },
   "outputs": [],
   "source": [
    "print(\"Train: \")\n",
    "print(str(train_df.isnull().sum()))\n",
    "print(\"************\")\n",
    "print(\"Test: \")\n",
    "print(str(test_df.isnull().sum()))\n",
    "print(\"************\")\n",
    "print(\"Movies: \")\n",
    "print(str(movies_df.isnull().sum()))\n",
    "print(\"************\")\n",
    "print(\"Links: \")\n",
    "print(str(links_df.isnull().sum()))\n",
    "print(\"************\")\n",
    "print(\"IMDB: \")\n",
    "print(str(imdb_df.isnull().sum()))\n",
    "print(\"************\")\n",
    "print(\"Genome scores: \")\n",
    "print(str(genome_scores.isnull().sum()))\n",
    "print(\"************\")\n",
    "print(\"Genome tags: \")\n",
    "print(str(genome_tags.isnull().sum()))"
   ]
  },
  {
   "cell_type": "markdown",
   "id": "c265dc12",
   "metadata": {
    "id": "french-cooler",
    "papermill": {
     "duration": 0.006674,
     "end_time": "2024-06-18T13:14:46.214899",
     "exception": false,
     "start_time": "2024-06-18T13:14:46.208225",
     "status": "completed"
    },
    "tags": []
   },
   "source": [
    "### Data Preparation"
   ]
  },
  {
   "cell_type": "markdown",
   "id": "3682daea",
   "metadata": {
    "id": "58f5e907",
    "papermill": {
     "duration": 0.006704,
     "end_time": "2024-06-18T13:14:46.228556",
     "exception": false,
     "start_time": "2024-06-18T13:14:46.221852",
     "status": "completed"
    },
    "tags": []
   },
   "source": [
    "Data preparation is the process of preparing raw data so that it is suitable for further processing and analysis. Key steps include:\n",
    "\n",
    "- **Collecting**: Gathering raw data from various sources.\n",
    "- **Cleaning**: Removing or correcting any errors or inconsistencies in the data. This includes handling missing values, correcting data types, and removing duplicates.\n",
    "- **Labeling**: Annotating data with labels that are required for supervised machine learning tasks. This involves identifying and marking the target variable.\n",
    "- **Transforming**: Converting raw data into a format that is suitable for analysis. This includes normalization, scaling, encoding categorical variables, and feature engineering.\n",
    "- **Exploring**: Analyzing the data to understand its structure and relationships. This step includes generating descriptive statistics and visualizing the data to identify patterns and insights.\n",
    "- **Visualizing**: Creating graphical representations of the data to better understand distributions, trends, and relationships among variables. Common techniques include histograms, bar charts, scatter plots, and heatmaps.\n",
    "\n",
    "By following these steps, raw data is transformed into a structured format that is ready for machine learning algorithms and further analysis.\n"
   ]
  },
  {
   "cell_type": "code",
   "execution_count": 7,
   "id": "5b174847",
   "metadata": {
    "execution": {
     "iopub.execute_input": "2024-06-18T13:14:46.243882Z",
     "iopub.status.busy": "2024-06-18T13:14:46.243509Z",
     "iopub.status.idle": "2024-06-18T13:14:46.254215Z",
     "shell.execute_reply": "2024-06-18T13:14:46.253144Z"
    },
    "id": "2d8bebfc",
    "papermill": {
     "duration": 0.021045,
     "end_time": "2024-06-18T13:14:46.256415",
     "exception": false,
     "start_time": "2024-06-18T13:14:46.235370",
     "status": "completed"
    },
    "tags": []
   },
   "outputs": [
    {
     "data": {
      "text/html": [
       "<div>\n",
       "<style scoped>\n",
       "    .dataframe tbody tr th:only-of-type {\n",
       "        vertical-align: middle;\n",
       "    }\n",
       "\n",
       "    .dataframe tbody tr th {\n",
       "        vertical-align: top;\n",
       "    }\n",
       "\n",
       "    .dataframe thead th {\n",
       "        text-align: right;\n",
       "    }\n",
       "</style>\n",
       "<table border=\"1\" class=\"dataframe\">\n",
       "  <thead>\n",
       "    <tr style=\"text-align: right;\">\n",
       "      <th></th>\n",
       "      <th>movieId</th>\n",
       "      <th>title</th>\n",
       "      <th>genres</th>\n",
       "    </tr>\n",
       "  </thead>\n",
       "  <tbody>\n",
       "    <tr>\n",
       "      <th>0</th>\n",
       "      <td>1</td>\n",
       "      <td>Toy Story (1995)</td>\n",
       "      <td>Adventure|Animation|Children|Comedy|Fantasy</td>\n",
       "    </tr>\n",
       "    <tr>\n",
       "      <th>1</th>\n",
       "      <td>2</td>\n",
       "      <td>Jumanji (1995)</td>\n",
       "      <td>Adventure|Children|Fantasy</td>\n",
       "    </tr>\n",
       "    <tr>\n",
       "      <th>2</th>\n",
       "      <td>3</td>\n",
       "      <td>Grumpier Old Men (1995)</td>\n",
       "      <td>Comedy|Romance</td>\n",
       "    </tr>\n",
       "    <tr>\n",
       "      <th>3</th>\n",
       "      <td>4</td>\n",
       "      <td>Waiting to Exhale (1995)</td>\n",
       "      <td>Comedy|Drama|Romance</td>\n",
       "    </tr>\n",
       "    <tr>\n",
       "      <th>4</th>\n",
       "      <td>5</td>\n",
       "      <td>Father of the Bride Part II (1995)</td>\n",
       "      <td>Comedy</td>\n",
       "    </tr>\n",
       "  </tbody>\n",
       "</table>\n",
       "</div>"
      ],
      "text/plain": [
       "   movieId                               title  \\\n",
       "0        1                    Toy Story (1995)   \n",
       "1        2                      Jumanji (1995)   \n",
       "2        3             Grumpier Old Men (1995)   \n",
       "3        4            Waiting to Exhale (1995)   \n",
       "4        5  Father of the Bride Part II (1995)   \n",
       "\n",
       "                                        genres  \n",
       "0  Adventure|Animation|Children|Comedy|Fantasy  \n",
       "1                   Adventure|Children|Fantasy  \n",
       "2                               Comedy|Romance  \n",
       "3                         Comedy|Drama|Romance  \n",
       "4                                       Comedy  "
      ]
     },
     "execution_count": 7,
     "metadata": {},
     "output_type": "execute_result"
    }
   ],
   "source": [
    "movies_df.head()"
   ]
  },
  {
   "cell_type": "code",
   "execution_count": 8,
   "id": "b8edd4df",
   "metadata": {
    "execution": {
     "iopub.execute_input": "2024-06-18T13:14:46.273096Z",
     "iopub.status.busy": "2024-06-18T13:14:46.272693Z",
     "iopub.status.idle": "2024-06-18T13:14:46.286716Z",
     "shell.execute_reply": "2024-06-18T13:14:46.285482Z"
    },
    "id": "f85d2997",
    "papermill": {
     "duration": 0.025038,
     "end_time": "2024-06-18T13:14:46.289018",
     "exception": false,
     "start_time": "2024-06-18T13:14:46.263980",
     "status": "completed"
    },
    "tags": []
   },
   "outputs": [
    {
     "data": {
      "text/html": [
       "<div>\n",
       "<style scoped>\n",
       "    .dataframe tbody tr th:only-of-type {\n",
       "        vertical-align: middle;\n",
       "    }\n",
       "\n",
       "    .dataframe tbody tr th {\n",
       "        vertical-align: top;\n",
       "    }\n",
       "\n",
       "    .dataframe thead th {\n",
       "        text-align: right;\n",
       "    }\n",
       "</style>\n",
       "<table border=\"1\" class=\"dataframe\">\n",
       "  <thead>\n",
       "    <tr style=\"text-align: right;\">\n",
       "      <th></th>\n",
       "      <th>userId</th>\n",
       "      <th>movieId</th>\n",
       "      <th>rating</th>\n",
       "      <th>timestamp</th>\n",
       "    </tr>\n",
       "  </thead>\n",
       "  <tbody>\n",
       "    <tr>\n",
       "      <th>0</th>\n",
       "      <td>5163</td>\n",
       "      <td>57669</td>\n",
       "      <td>4.0</td>\n",
       "      <td>1518349992</td>\n",
       "    </tr>\n",
       "    <tr>\n",
       "      <th>1</th>\n",
       "      <td>106343</td>\n",
       "      <td>5</td>\n",
       "      <td>4.5</td>\n",
       "      <td>1206238739</td>\n",
       "    </tr>\n",
       "    <tr>\n",
       "      <th>2</th>\n",
       "      <td>146790</td>\n",
       "      <td>5459</td>\n",
       "      <td>5.0</td>\n",
       "      <td>1076215539</td>\n",
       "    </tr>\n",
       "    <tr>\n",
       "      <th>3</th>\n",
       "      <td>106362</td>\n",
       "      <td>32296</td>\n",
       "      <td>2.0</td>\n",
       "      <td>1423042565</td>\n",
       "    </tr>\n",
       "    <tr>\n",
       "      <th>4</th>\n",
       "      <td>9041</td>\n",
       "      <td>366</td>\n",
       "      <td>3.0</td>\n",
       "      <td>833375837</td>\n",
       "    </tr>\n",
       "  </tbody>\n",
       "</table>\n",
       "</div>"
      ],
      "text/plain": [
       "   userId  movieId  rating   timestamp\n",
       "0    5163    57669     4.0  1518349992\n",
       "1  106343        5     4.5  1206238739\n",
       "2  146790     5459     5.0  1076215539\n",
       "3  106362    32296     2.0  1423042565\n",
       "4    9041      366     3.0   833375837"
      ]
     },
     "execution_count": 8,
     "metadata": {},
     "output_type": "execute_result"
    }
   ],
   "source": [
    "train_df.head()"
   ]
  },
  {
   "cell_type": "code",
   "execution_count": 9,
   "id": "46635366",
   "metadata": {
    "execution": {
     "iopub.execute_input": "2024-06-18T13:14:46.305980Z",
     "iopub.status.busy": "2024-06-18T13:14:46.305192Z",
     "iopub.status.idle": "2024-06-18T13:14:46.314452Z",
     "shell.execute_reply": "2024-06-18T13:14:46.313408Z"
    },
    "id": "3fa34c6a",
    "papermill": {
     "duration": 0.020076,
     "end_time": "2024-06-18T13:14:46.316560",
     "exception": false,
     "start_time": "2024-06-18T13:14:46.296484",
     "status": "completed"
    },
    "tags": []
   },
   "outputs": [
    {
     "data": {
      "text/html": [
       "<div>\n",
       "<style scoped>\n",
       "    .dataframe tbody tr th:only-of-type {\n",
       "        vertical-align: middle;\n",
       "    }\n",
       "\n",
       "    .dataframe tbody tr th {\n",
       "        vertical-align: top;\n",
       "    }\n",
       "\n",
       "    .dataframe thead th {\n",
       "        text-align: right;\n",
       "    }\n",
       "</style>\n",
       "<table border=\"1\" class=\"dataframe\">\n",
       "  <thead>\n",
       "    <tr style=\"text-align: right;\">\n",
       "      <th></th>\n",
       "      <th>userId</th>\n",
       "      <th>movieId</th>\n",
       "    </tr>\n",
       "  </thead>\n",
       "  <tbody>\n",
       "    <tr>\n",
       "      <th>0</th>\n",
       "      <td>1</td>\n",
       "      <td>2011</td>\n",
       "    </tr>\n",
       "    <tr>\n",
       "      <th>1</th>\n",
       "      <td>1</td>\n",
       "      <td>4144</td>\n",
       "    </tr>\n",
       "    <tr>\n",
       "      <th>2</th>\n",
       "      <td>1</td>\n",
       "      <td>5767</td>\n",
       "    </tr>\n",
       "    <tr>\n",
       "      <th>3</th>\n",
       "      <td>1</td>\n",
       "      <td>6711</td>\n",
       "    </tr>\n",
       "    <tr>\n",
       "      <th>4</th>\n",
       "      <td>1</td>\n",
       "      <td>7318</td>\n",
       "    </tr>\n",
       "  </tbody>\n",
       "</table>\n",
       "</div>"
      ],
      "text/plain": [
       "   userId  movieId\n",
       "0       1     2011\n",
       "1       1     4144\n",
       "2       1     5767\n",
       "3       1     6711\n",
       "4       1     7318"
      ]
     },
     "execution_count": 9,
     "metadata": {},
     "output_type": "execute_result"
    }
   ],
   "source": [
    "test_df.head()"
   ]
  },
  {
   "cell_type": "markdown",
   "id": "cc9ed105",
   "metadata": {},
   "source": [
    "**Creating a cleaner DataFrame for movie genres**"
   ]
  },
  {
   "cell_type": "code",
   "execution_count": 10,
   "id": "a910a511",
   "metadata": {
    "execution": {
     "iopub.execute_input": "2024-06-18T13:14:46.333707Z",
     "iopub.status.busy": "2024-06-18T13:14:46.332957Z",
     "iopub.status.idle": "2024-06-18T13:14:46.632233Z",
     "shell.execute_reply": "2024-06-18T13:14:46.631025Z"
    },
    "id": "polish-retro",
    "papermill": {
     "duration": 0.310965,
     "end_time": "2024-06-18T13:14:46.635228",
     "exception": false,
     "start_time": "2024-06-18T13:14:46.324263",
     "status": "completed"
    },
    "tags": []
   },
   "outputs": [
    {
     "data": {
      "text/html": [
       "<div>\n",
       "<style scoped>\n",
       "    .dataframe tbody tr th:only-of-type {\n",
       "        vertical-align: middle;\n",
       "    }\n",
       "\n",
       "    .dataframe tbody tr th {\n",
       "        vertical-align: top;\n",
       "    }\n",
       "\n",
       "    .dataframe thead th {\n",
       "        text-align: right;\n",
       "    }\n",
       "</style>\n",
       "<table border=\"1\" class=\"dataframe\">\n",
       "  <thead>\n",
       "    <tr style=\"text-align: right;\">\n",
       "      <th></th>\n",
       "      <th>movieId</th>\n",
       "      <th>genres</th>\n",
       "    </tr>\n",
       "  </thead>\n",
       "  <tbody>\n",
       "    <tr>\n",
       "      <th>0</th>\n",
       "      <td>1</td>\n",
       "      <td>Adventure</td>\n",
       "    </tr>\n",
       "    <tr>\n",
       "      <th>1</th>\n",
       "      <td>1</td>\n",
       "      <td>Animation</td>\n",
       "    </tr>\n",
       "    <tr>\n",
       "      <th>2</th>\n",
       "      <td>1</td>\n",
       "      <td>Children</td>\n",
       "    </tr>\n",
       "    <tr>\n",
       "      <th>3</th>\n",
       "      <td>1</td>\n",
       "      <td>Comedy</td>\n",
       "    </tr>\n",
       "    <tr>\n",
       "      <th>4</th>\n",
       "      <td>1</td>\n",
       "      <td>Fantasy</td>\n",
       "    </tr>\n",
       "  </tbody>\n",
       "</table>\n",
       "</div>"
      ],
      "text/plain": [
       "   movieId     genres\n",
       "0        1  Adventure\n",
       "1        1  Animation\n",
       "2        1   Children\n",
       "3        1     Comedy\n",
       "4        1    Fantasy"
      ]
     },
     "execution_count": 10,
     "metadata": {},
     "output_type": "execute_result"
    }
   ],
   "source": [
    "# Create dataframe containing only the movieId and genres\n",
    "movies_genres = pd.DataFrame(movies_df[['movieId', 'genres']],\n",
    "                             columns=['movieId', 'genres'])\n",
    "\n",
    "# Split genres seperated by \"|\" and create a list containing the genres allocated to each movie\n",
    "movies_genres.genres = movies_genres.genres.apply(lambda x: x.split('|'))\n",
    "\n",
    "# Create expanded dataframe where each movie-genre combination is in a seperate row\n",
    "movies_genres = pd.DataFrame([(tup.movieId, d) for tup in movies_genres.itertuples() for d in tup.genres],\n",
    "                             columns=['movieId', 'genres'])\n",
    "\n",
    "movies_genres.head()"
   ]
  },
  {
   "cell_type": "markdown",
   "id": "fc6f49b1",
   "metadata": {
    "id": "8af5aa4f",
    "papermill": {
     "duration": 0.008354,
     "end_time": "2024-06-18T13:14:46.651990",
     "exception": false,
     "start_time": "2024-06-18T13:14:46.643636",
     "status": "completed"
    },
    "tags": []
   },
   "source": [
    "**Plotting genres from most common to least common**"
   ]
  },
  {
   "cell_type": "code",
   "execution_count": 11,
   "id": "72f714b4",
   "metadata": {
    "execution": {
     "iopub.execute_input": "2024-06-18T13:14:46.670184Z",
     "iopub.status.busy": "2024-06-18T13:14:46.669663Z",
     "iopub.status.idle": "2024-06-18T13:14:47.214391Z",
     "shell.execute_reply": "2024-06-18T13:14:47.213201Z"
    },
    "id": "37b7a1f4",
    "papermill": {
     "duration": 0.556954,
     "end_time": "2024-06-18T13:14:47.217081",
     "exception": false,
     "start_time": "2024-06-18T13:14:46.660127",
     "status": "completed"
    },
    "scrolled": true,
    "tags": []
   },
   "outputs": [
    {
     "data": {
      "image/png": "[encoded data removed]",
      "text/plain": [
       "<Figure size 1500x1000 with 1 Axes>"
      ]
     },
     "metadata": {},
     "output_type": "display_data"
    }
   ],
   "source": [
    "plot = plt.figure(figsize=(15, 10))\n",
    "plt.title('Most common genres\\n', fontsize=20)\n",
    "sns.countplot(y=\"genres\", data=movies_genres,\n",
    "              order=movies_genres['genres'].value_counts(ascending=False).index,\n",
    "              palette='Reds_r')\n",
    "plt.show()"
   ]
  },
  {
   "cell_type": "markdown",
   "id": "9c06d7aa",
   "metadata": {},
   "source": [
    "**Plotting the distribution of movie ratings**"
   ]
  },
  {
   "cell_type": "code",
   "execution_count": null,
   "id": "e17b9346",
   "metadata": {},
   "outputs": [],
   "source": [
    "# group by ratings for visualization\n",
    "ratings_df = train.groupby(['rating']).count()\n",
    "\n",
    "#Plot showing the distribution of rating counts\n",
    "plot = plt.figure(figsize=(15, 10))\n",
    "a = sns.barplot(x=ratings_df.index,y='userId',data=ratings_df,palette='crest')\n",
    "a.set_title('The Distribution of Ratings',fontsize=20)\n",
    "a.set_ylabel('Count in Millions',fontsize=15)\n",
    "a.set_xlabel('Ratings',fontsize=15)\n",
    "\n",
    "#Obtaining percentages on top of bars\n",
    "n_obs = [i.get_height() for i in a.patches]\n",
    "total = sum(n_obs)\n",
    "\n",
    "for i in a.patches:\n",
    "    # get_x pulls left or right; get_height pushes up or down\n",
    "    a.text(i.get_x()+i.get_width() / 2, i.get_height()+0.5, \\\n",
    "            str(round((i.get_height()/total)*100, 1))+'%', fontsize=15,\n",
    "                color='black',ha='center')\n",
    "\n",
    "plt.show()"
   ]
  },
  {
   "cell_type": "markdown",
   "id": "57d37618",
   "metadata": {},
   "source": [
    "### Data Validation"
   ]
  },
  {
   "cell_type": "markdown",
   "id": "c3556da5",
   "metadata": {},
   "source": [
    "**Verifying whether the imported testing and training datasets are suitable**\n",
    "\n",
    "This step can be skipped if the testing and training datasets are split within the notebook."
   ]
  },
  {
   "cell_type": "code",
   "execution_count": null,
   "id": "2e85dea3",
   "metadata": {},
   "outputs": [],
   "source": [
    "# Checking for the number of unique User ID's in the test data\n",
    "test['userId'].nunique()\n",
    "\n",
    "# Checking if there is any User ID in the test data but absent in the train data\n",
    "test_case = test['userId'].unique()\n",
    "train_case = train['userId'].unique()\n",
    "print([id for id in test_case if id not in train_case])"
   ]
  },
  {
   "cell_type": "markdown",
   "id": "4049ad6a",
   "metadata": {},
   "source": [
    "**Sorting both tables according to the User IDs**"
   ]
  },
  {
   "cell_type": "code",
   "execution_count": null,
   "id": "bfc1d17b",
   "metadata": {},
   "outputs": [],
   "source": [
    "# Sort train dataset by userId\n",
    "train.sort_values(by=['userId'], inplace= True)\n",
    "print('Train first five rows:', train.head())\n",
    "print('\\n Train Shape:', train.shape)\n",
    "\n",
    "\n",
    "# Sort test dataset by userId\n",
    "test.sort_values(by=['userId'], inplace= True)\n",
    "print('\\n\\n Test first five rows:', train.head())\n",
    "print('\\n Test Shape:', train.shape)"
   ]
  },
  {
   "cell_type": "markdown",
   "id": "9e2030a9",
   "metadata": {
    "id": "agricultural-episode",
    "papermill": {
     "duration": 0.008576,
     "end_time": "2024-06-18T13:14:47.234476",
     "exception": false,
     "start_time": "2024-06-18T13:14:47.225900",
     "status": "completed"
    },
    "tags": []
   },
   "source": [
    "<a id=\"three\"></a>\n",
    "## 3. Modelling phase\n",
    "<a class=\"anchor\" id=\"1.1\"></a>\n",
    "<a href=#cont>Back to Table of Contents</a>\n",
    "\n",
    "\n",
    "This part of the notebook builds and runs the model.\n",
    "\n",
    "The first step taken is to create a reader object in order to parse through the ratings."
   ]
  },
  {
   "cell_type": "code",
   "execution_count": null,
   "id": "95089899",
   "metadata": {},
   "outputs": [],
   "source": [
    "reader = Reader(rating_scale=(0.5, 5.0))\n",
    "data = Dataset.load_from_df(train_df[['userId', 'movieId', 'rating']], reader)"
   ]
  },
  {
   "cell_type": "markdown",
   "id": "b70a3e9d",
   "metadata": {},
   "source": [
    "This notebook then makes use of a pipeline in order to find the best hyperparameters of the different models.\n",
    "\n",
    "`Warning:` Training with a huge dataset may be very demanding for local runtimes."
   ]
  },
  {
   "cell_type": "code",
   "execution_count": null,
   "id": "e0cd3d29",
   "metadata": {},
   "outputs": [],
   "source": [
    "# Creating a pipeline that combines multiple models\n",
    "pipe = Pipeline([\n",
    "    ('model', None),\n",
    "])\n",
    "\n",
    "# Defining the hyperparameters for the pipeline\n",
    "params = [\n",
    "    {\n",
    "        'model': [KNNWithMeans()],\n",
    "        'model__k': [5, 10, 20, 30, 40, 50, 75, 100],\n",
    "        'model__sim_options': [{'name': 'cosine', 'user_based': False},\n",
    "                               {'name': 'cosine', 'user_based': True}]\n",
    "    },\n",
    "    {\n",
    "        'model': [KNNBasic()],\n",
    "        'model__k': [5, 10, 20, 30, 40, 50, 75, 100],\n",
    "        'model__sim_options': [{'name': 'cosine', 'user_based': False},\n",
    "                               {'name': 'cosine', 'user_based': True}]\n",
    "    },\n",
    "    {\n",
    "        'model': [KNNBaseline()],\n",
    "        'model__k': [5, 10, 20, 30, 40, 50, 75, 100],\n",
    "        'model__sim_options': [{'name': 'cosine', 'user_based': False},\n",
    "                               {'name': 'cosine', 'user_based': True}]\n",
    "    },\n",
    "    {\n",
    "        'model': [SVD()],\n",
    "        'model__n_factors': [25, 75, 100, 125, 150, 200],\n",
    "        'model__n_epochs': [10, 20, 30, 40]\n",
    "    },\n",
    "    {\n",
    "        'model': [SVDpp()],\n",
    "        'model__n_factors': [10, 15, 20, 25, 30, 40],\n",
    "        'model__n_epochs': [10, 20, 30, 40]\n",
    "    },\n",
    "    {\n",
    "        'model': [NMF()],\n",
    "        'model__n_factors': [5, 10, 15, 20, 25, 30],\n",
    "        'model__n_epochs': [10, 20, 30, 40]\n",
    "    },\n",
    "    {\n",
    "        'model': [SlopeOne()]\n",
    "    },\n",
    "    {\n",
    "        'model': [CoClustering()],\n",
    "        'model__n_cltr_u': [2, 3, 5, 8, 10, 20],\n",
    "        'model__n_cltr_i': [2, 3, 5, 8, 10, 20],\n",
    "        'model__n_epochs': [10, 20, 30, 40],\n",
    "        'random_state': [42]\n",
    "    },\n",
    "    {\n",
    "        'model': [BaselineOnly()]\n",
    "    }\n",
    "]\n",
    "\n",
    "# Specifying Root Mean Squared Error as the scoring metric for GridSearchCV\n",
    "scoring_metric = 'rmse'\n",
    "\n",
    "# Using GridSearchCV to search over the hyperparameters\n",
    "grid = GridSearchCV(pipe, params, measures=[scoring_metric], cv=5, refit=True)\n",
    "grid.fit(data)\n",
    "\n",
    "# Best score\n",
    "print(f'Best RMSE: {grid.best_score[scoring_metric]}')\n",
    "\n",
    "# Best parameters\n",
    "print('Best parameters:')\n",
    "print(grid.best_params[scoring_metric])"
   ]
  },
  {
   "cell_type": "markdown",
   "id": "b35a61e6",
   "metadata": {},
   "source": [
    "The following step is `optional`. The user may comment out any model(s) in the event they don't want to run all the models due to system resources and runtime."
   ]
  },
  {
   "cell_type": "code",
   "execution_count": null,
   "id": "e330ad3e",
   "metadata": {},
   "outputs": [],
   "source": [
    "\"\"\"\n",
    "# Train KNNBasic\n",
    "knn_basic = KNNBasic()\n",
    "knn_basic.fit(trainset)\n",
    "\n",
    "# Train KNNWithMeans\n",
    "knn_means = KNNWithMeans()\n",
    "knn_means.fit(trainset)\n",
    "\n",
    "# Train SVD\n",
    "svd = SVD()\n",
    "svd.fit(trainset)\n",
    "\n",
    "# Train SVDpp\n",
    "svdpp = SVDpp(cache_ratings=True)\n",
    "svdpp.fit(trainset)\n",
    "\n",
    "# Train NMF\n",
    "nmf = NMF()\n",
    "nmf.fit(trainset)\n",
    "\n",
    "# Train SlopeOne\n",
    "slope_one = SlopeOne()\n",
    "slope_one.fit(trainset)\n",
    "\n",
    "# Train KNNBaseline\n",
    "knn_baseline = KNNBaseline()\n",
    "knn_baseline.fit(trainset)\n",
    "\n",
    "# Train CoClustering\n",
    "coclustering = CoClustering()\n",
    "coclustering.fit(trainset)\n",
    "\n",
    "# Train BaselineOnly\n",
    "baseline_only = BaselineOnly()\n",
    "baseline_only.fit(trainset)\n",
    "\"\"\""
   ]
  },
  {
   "cell_type": "markdown",
   "id": "b0b28aeb",
   "metadata": {},
   "source": [
    "After training the model(s), it may be useful to store it due to the lengthy training time."
   ]
  },
  {
   "cell_type": "code",
   "execution_count": null,
   "id": "77ca849c",
   "metadata": {},
   "outputs": [],
   "source": [
    "\"\"\"\n",
    "model_save_path = \"svd_model.pkl\"\n",
    "with open(model_save_path,'wb') as file:\n",
    "    pickle.dump(svd,file)\n",
    "\"\"\""
   ]
  },
  {
   "cell_type": "markdown",
   "id": "17c138c3",
   "metadata": {},
   "source": [
    "An example of how to load the stored model."
   ]
  },
  {
   "cell_type": "code",
   "execution_count": null,
   "id": "c14cde9b",
   "metadata": {},
   "outputs": [],
   "source": [
    "\"\"\"\n",
    "model_load_path = \"svd_model.pkl\"\n",
    "with open(model_load_path,'rb') as file:\n",
    "    unpickled_model = pickle.load(file)\n",
    "\"\"\""
   ]
  },
  {
   "cell_type": "markdown",
   "id": "c20a548c",
   "metadata": {
    "id": "robust-burton",
    "papermill": {
     "duration": 0.009182,
     "end_time": "2024-06-18T13:14:47.436726",
     "exception": false,
     "start_time": "2024-06-18T13:14:47.427544",
     "status": "completed"
    },
    "tags": []
   },
   "source": [
    "<a id=\"four\"></a>\n",
    "# 4. Generating Predictions\n",
    "<a class=\"anchor\" id=\"1.1\"></a>\n",
    "<a href=#cont>Back to Table of Contents</a>"
   ]
  },
  {
   "cell_type": "markdown",
   "id": "aa336bfc",
   "metadata": {
    "id": "sustained-lawsuit",
    "papermill": {
     "duration": 0.009191,
     "end_time": "2024-06-18T13:14:47.456246",
     "exception": false,
     "start_time": "2024-06-18T13:14:47.447055",
     "status": "completed"
    },
    "tags": []
   },
   "source": [
    "At this stage, the notebook generates the average rating predictions from all the models."
   ]
  },
  {
   "cell_type": "code",
   "execution_count": null,
   "id": "d4558def",
   "metadata": {},
   "outputs": [],
   "source": [
    "# Function to make combined prediction\n",
    "def get_combined_prediction(uid, iid):\n",
    "    predictions = [\n",
    "        knn_basic.predict(uid, iid).est,\n",
    "        knn_means.predict(uid, iid).est,\n",
    "        svd.predict(uid, iid).est,\n",
    "        svdpp.predict(uid, iid).est,\n",
    "        nmf.predict(uid, iid).est,\n",
    "        slope_one.predict(uid, iid).est,\n",
    "        knn_baseline.predict(uid, iid).est,\n",
    "        coclustering.predict(uid, iid).est,\n",
    "        baseline_only.predict(uid, iid).est\n",
    "    ]\n",
    "    # Simple average of all predictions\n",
    "    combined_pred = sum(predictions) / len(predictions)\n",
    "    return combined_pred"
   ]
  },
  {
   "cell_type": "code",
   "execution_count": null,
   "id": "5ffc78d7",
   "metadata": {},
   "outputs": [],
   "source": [
    "# Generating a list of predictions from the test set\n",
    "# The list contains a tuple of userId, movieId and predicted rating for each row\n",
    "predictions = []\n",
    "for idx, row in test_df.iterrows():\n",
    "    uid = row['userId']\n",
    "    iid = row['movieId']\n",
    "    est = get_combined_prediction(uid, iid)\n",
    "    predictions.append((uid, iid, est))\n",
    "\n",
    "# printing out the first five rows\n",
    "predictions[:5]"
   ]
  },
  {
   "cell_type": "markdown",
   "id": "3364f274",
   "metadata": {},
   "source": [
    "The next step is `optional.` It concatenates the user and movie IDs after storing them in a DataFrame."
   ]
  },
  {
   "cell_type": "code",
   "execution_count": null,
   "id": "d2cf756f",
   "metadata": {},
   "outputs": [],
   "source": [
    "\"\"\"\n",
    "# creating a dataframe to store the predictions\n",
    "final_preds = pd.DataFrame(predictions)\n",
    "\n",
    "# joining userId and movieId columns and naming it 'id'\n",
    "final_preds['id'] = final_preds[[0, 1]].astype(str).agg('_'.join, axis=1)\n",
    "\n",
    "# dropping the userId and movieId columns\n",
    "final_preds.drop(columns=[0, 1], axis=1, inplace=True)\n",
    "\n",
    "# renaming the column with ratings to 'ratings'\n",
    "final_preds.rename(columns={2:'rating'}, inplace=True)\n",
    "\n",
    "# rearranging the columns to start with 'id' then 'rating'\n",
    "final_preds = final_preds.reindex(sorted(final_preds.columns), axis=1)\n",
    "print(final_preds.head())\n",
    "print(final_preds.shape)\n",
    "\"\"\""
   ]
  },
  {
   "cell_type": "markdown",
   "id": "da2666b8",
   "metadata": {},
   "source": [
    "If needed as a csv file, the code below is how to convert it."
   ]
  },
  {
   "cell_type": "code",
   "execution_count": 15,
   "id": "8f180400",
   "metadata": {
    "execution": {
     "iopub.execute_input": "2024-06-18T13:14:47.477355Z",
     "iopub.status.busy": "2024-06-18T13:14:47.476948Z",
     "iopub.status.idle": "2024-06-18T13:14:47.487336Z",
     "shell.execute_reply": "2024-06-18T13:14:47.486086Z"
    },
    "id": "major-gossip",
    "papermill": {
     "duration": 0.024355,
     "end_time": "2024-06-18T13:14:47.490262",
     "exception": false,
     "start_time": "2024-06-18T13:14:47.465907",
     "status": "completed"
    },
    "tags": []
   },
   "outputs": [],
   "source": [
    "#final_preds.to_csv('submission2.csv', index=False)"
   ]
  },
  {
   "cell_type": "markdown",
   "id": "c39d7a98",
   "metadata": {},
   "source": [
    "<a id=\"five\"></a>\n",
    "# 5. Evaluating the Model\n",
    "<a class=\"anchor\" id=\"1.1\"></a>\n",
    "<a href=#cont>Back to Table of Contents</a>\n",
    "\n",
    "From the generated predictions, this notebook proceeds to evaluate the performance of the model."
   ]
  },
  {
   "cell_type": "code",
   "execution_count": null,
   "id": "65e0f845",
   "metadata": {},
   "outputs": [],
   "source": [
    "# Evaluate the ensemble model\n",
    "def evaluate_ensemble(testset):\n",
    "    predictions = []\n",
    "    for uid, iid, true_r in testset:\n",
    "        est = get_combined_prediction(uid, iid)\n",
    "        predictions.append((uid, iid, true_r, est))\n",
    "    return predictions\n",
    "\n",
    "ensemble_predictions = evaluate_ensemble(testset)\n",
    "\n",
    "# Function to calculate RMSE for the ensemble predictions\n",
    "def ensemble_rmse(predictions):\n",
    "    mse = 0\n",
    "    for uid, iid, true_r, est in predictions:\n",
    "        mse += (true_r - est) ** 2\n",
    "    rmse = (mse / len(predictions)) ** 0.5\n",
    "    return rmse\n",
    "\n",
    "# Calculate and print RMSE\n",
    "rmse = ensemble_rmse(ensemble_predictions)\n",
    "print(f'Ensemble RMSE: {rmse:.4f}')"
   ]
  }
 ],
 "metadata": {
  "colab": {
   "provenance": []
  },
  "kaggle": {
   "accelerator": "none",
   "dataSources": [
    {
     "databundleVersionId": 8778365,
     "sourceId": 81285,
     "sourceType": "competition"
    }
   ],
   "isGpuEnabled": false,
   "isInternetEnabled": true,
   "language": "python",
   "sourceType": "notebook"
  },
  "kernelspec": {
   "display_name": "Python 3 (ipykernel)",
   "language": "python",
   "name": "python3"
  },
  "language_info": {
   "codemirror_mode": {
    "name": "ipython",
    "version": 3
   },
   "file_extension": ".py",
   "mimetype": "text/x-python",
   "name": "python",
   "nbconvert_exporter": "python",
   "pygments_lexer": "ipython3",
   "version": "3.11.9"
  },
  "papermill": {
   "default_parameters": {},
   "duration": 30.446815,
   "end_time": "2024-06-18T13:14:48.366880",
   "environment_variables": {},
   "exception": null,
   "input_path": "__notebook__.ipynb",
   "output_path": "__notebook__.ipynb",
   "parameters": {},
   "start_time": "2024-06-18T13:14:17.920065",
   "version": "2.3.3"
  }
 },
 "nbformat": 4,
 "nbformat_minor": 5
}
